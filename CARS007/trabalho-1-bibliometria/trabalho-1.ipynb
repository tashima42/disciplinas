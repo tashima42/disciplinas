{
 "cells": [
  {
   "cell_type": "code",
   "execution_count": 1,
   "id": "e3ad652a",
   "metadata": {
    "vscode": {
     "languageId": "shellscript"
    }
   },
   "outputs": [
    {
     "name": "stdout",
     "output_type": "stream",
     "text": [
      "Requirement already satisfied: python-dotenv==1.1.1 in ./venv/lib/python3.13/site-packages (from -r requirements.txt (line 1)) (1.1.1)\n",
      "Requirement already satisfied: pandas==2.3.2 in ./venv/lib/python3.13/site-packages (from -r requirements.txt (line 2)) (2.3.2)\n",
      "Requirement already satisfied: matplotlib==3.10.5 in ./venv/lib/python3.13/site-packages (from -r requirements.txt (line 3)) (3.10.5)\n",
      "Requirement already satisfied: geopy==2.4.1 in ./venv/lib/python3.13/site-packages (from -r requirements.txt (line 4)) (2.4.1)\n",
      "Requirement already satisfied: plotly==6.3.0 in ./venv/lib/python3.13/site-packages (from -r requirements.txt (line 5)) (6.3.0)\n",
      "Requirement already satisfied: nbformat>=4.2.0 in ./venv/lib/python3.13/site-packages (from -r requirements.txt (line 6)) (5.10.4)\n",
      "Requirement already satisfied: numpy>=1.26.0 in ./venv/lib/python3.13/site-packages (from pandas==2.3.2->-r requirements.txt (line 2)) (2.3.2)\n",
      "Requirement already satisfied: python-dateutil>=2.8.2 in ./venv/lib/python3.13/site-packages (from pandas==2.3.2->-r requirements.txt (line 2)) (2.9.0.post0)\n",
      "Requirement already satisfied: pytz>=2020.1 in ./venv/lib/python3.13/site-packages (from pandas==2.3.2->-r requirements.txt (line 2)) (2025.2)\n",
      "Requirement already satisfied: tzdata>=2022.7 in ./venv/lib/python3.13/site-packages (from pandas==2.3.2->-r requirements.txt (line 2)) (2025.2)\n",
      "Requirement already satisfied: contourpy>=1.0.1 in ./venv/lib/python3.13/site-packages (from matplotlib==3.10.5->-r requirements.txt (line 3)) (1.3.3)\n",
      "Requirement already satisfied: cycler>=0.10 in ./venv/lib/python3.13/site-packages (from matplotlib==3.10.5->-r requirements.txt (line 3)) (0.12.1)\n",
      "Requirement already satisfied: fonttools>=4.22.0 in ./venv/lib/python3.13/site-packages (from matplotlib==3.10.5->-r requirements.txt (line 3)) (4.59.1)\n",
      "Requirement already satisfied: kiwisolver>=1.3.1 in ./venv/lib/python3.13/site-packages (from matplotlib==3.10.5->-r requirements.txt (line 3)) (1.4.9)\n",
      "Requirement already satisfied: packaging>=20.0 in ./venv/lib/python3.13/site-packages (from matplotlib==3.10.5->-r requirements.txt (line 3)) (25.0)\n",
      "Requirement already satisfied: pillow>=8 in ./venv/lib/python3.13/site-packages (from matplotlib==3.10.5->-r requirements.txt (line 3)) (11.3.0)\n",
      "Requirement already satisfied: pyparsing>=2.3.1 in ./venv/lib/python3.13/site-packages (from matplotlib==3.10.5->-r requirements.txt (line 3)) (3.2.3)\n",
      "Requirement already satisfied: geographiclib<3,>=1.52 in ./venv/lib/python3.13/site-packages (from geopy==2.4.1->-r requirements.txt (line 4)) (2.1)\n",
      "Requirement already satisfied: narwhals>=1.15.1 in ./venv/lib/python3.13/site-packages (from plotly==6.3.0->-r requirements.txt (line 5)) (2.1.2)\n",
      "Requirement already satisfied: fastjsonschema>=2.15 in ./venv/lib/python3.13/site-packages (from nbformat>=4.2.0->-r requirements.txt (line 6)) (2.21.2)\n",
      "Requirement already satisfied: jsonschema>=2.6 in ./venv/lib/python3.13/site-packages (from nbformat>=4.2.0->-r requirements.txt (line 6)) (4.25.1)\n",
      "Requirement already satisfied: jupyter-core!=5.0.*,>=4.12 in ./venv/lib/python3.13/site-packages (from nbformat>=4.2.0->-r requirements.txt (line 6)) (5.8.1)\n",
      "Requirement already satisfied: traitlets>=5.1 in ./venv/lib/python3.13/site-packages (from nbformat>=4.2.0->-r requirements.txt (line 6)) (5.14.3)\n",
      "Requirement already satisfied: attrs>=22.2.0 in ./venv/lib/python3.13/site-packages (from jsonschema>=2.6->nbformat>=4.2.0->-r requirements.txt (line 6)) (25.3.0)\n",
      "Requirement already satisfied: jsonschema-specifications>=2023.03.6 in ./venv/lib/python3.13/site-packages (from jsonschema>=2.6->nbformat>=4.2.0->-r requirements.txt (line 6)) (2025.4.1)\n",
      "Requirement already satisfied: referencing>=0.28.4 in ./venv/lib/python3.13/site-packages (from jsonschema>=2.6->nbformat>=4.2.0->-r requirements.txt (line 6)) (0.36.2)\n",
      "Requirement already satisfied: rpds-py>=0.7.1 in ./venv/lib/python3.13/site-packages (from jsonschema>=2.6->nbformat>=4.2.0->-r requirements.txt (line 6)) (0.27.0)\n",
      "Requirement already satisfied: platformdirs>=2.5 in ./venv/lib/python3.13/site-packages (from jupyter-core!=5.0.*,>=4.12->nbformat>=4.2.0->-r requirements.txt (line 6)) (4.3.8)\n",
      "Requirement already satisfied: six>=1.5 in ./venv/lib/python3.13/site-packages (from python-dateutil>=2.8.2->pandas==2.3.2->-r requirements.txt (line 2)) (1.17.0)\n"
     ]
    }
   ],
   "source": [
    "!python3 -m pip install -r requirements.txt"
   ]
  },
  {
   "cell_type": "code",
   "execution_count": 2,
   "id": "94c547c8",
   "metadata": {},
   "outputs": [],
   "source": [
    "from dotenv import dotenv_values\n",
    "import matplotlib.pyplot as plt\n",
    "import pandas as pd\n",
    "\n",
    "config = dotenv_values(\".env\")\n",
    "df = pd.read_csv(str(config[\"WOS_DATA\"]), sep=\"\\t\", usecols=[\"AU\", \"C1\", \"AF\", \"TI\", \"SO\", \"C3\"])"
   ]
  },
  {
   "cell_type": "code",
   "execution_count": 3,
   "id": "d5b93fa2",
   "metadata": {},
   "outputs": [
    {
     "data": {
      "text/html": [
       "<div>\n",
       "<style scoped>\n",
       "    .dataframe tbody tr th:only-of-type {\n",
       "        vertical-align: middle;\n",
       "    }\n",
       "\n",
       "    .dataframe tbody tr th {\n",
       "        vertical-align: top;\n",
       "    }\n",
       "\n",
       "    .dataframe thead th {\n",
       "        text-align: right;\n",
       "    }\n",
       "</style>\n",
       "<table border=\"1\" class=\"dataframe\">\n",
       "  <thead>\n",
       "    <tr style=\"text-align: right;\">\n",
       "      <th></th>\n",
       "      <th>AU</th>\n",
       "      <th>AF</th>\n",
       "      <th>TI</th>\n",
       "      <th>SO</th>\n",
       "      <th>C1</th>\n",
       "      <th>C3</th>\n",
       "    </tr>\n",
       "  </thead>\n",
       "  <tbody>\n",
       "    <tr>\n",
       "      <th>0</th>\n",
       "      <td>Zhang, H; Zhang, ZY; Zhang, L; Yang, YF; Kang,...</td>\n",
       "      <td>Zhang, Hong; Zhang, Zeyu; Zhang, Lei; Yang, Yi...</td>\n",
       "      <td>Object Tracking for a Smart City Using IoT and...</td>\n",
       "      <td>SENSORS</td>\n",
       "      <td>[Zhang, Hong; Zhang, Zeyu; Zhang, Lei; Yang, Y...</td>\n",
       "      <td>Beihang University; University of Massachusett...</td>\n",
       "    </tr>\n",
       "    <tr>\n",
       "      <th>1</th>\n",
       "      <td>Yar, H; Imran, AS; Khan, ZA; Sajjad, M; Kastra...</td>\n",
       "      <td>Yar, Hikmat; Imran, Ali Shariq; Khan, Zulfiqar...</td>\n",
       "      <td>Towards Smart Home Automation Using IoT-Enable...</td>\n",
       "      <td>SENSORS</td>\n",
       "      <td>[Yar, Hikmat; Sajjad, Muhammad] Islamia Coll P...</td>\n",
       "      <td>University of Peshawar; Norwegian University o...</td>\n",
       "    </tr>\n",
       "    <tr>\n",
       "      <th>2</th>\n",
       "      <td>Gheisari, M; Wang, GJ; Chen, SH</td>\n",
       "      <td>Gheisari, Mehdi; Wang, Guojun; Chen, Shuhong</td>\n",
       "      <td>An Edge Computing-enhanced Internet of Things ...</td>\n",
       "      <td>COMPUTERS &amp; ELECTRICAL ENGINEERING</td>\n",
       "      <td>[Gheisari, Mehdi; Wang, Guojun; Chen, Shuhong]...</td>\n",
       "      <td>Guangzhou University; State University System ...</td>\n",
       "    </tr>\n",
       "    <tr>\n",
       "      <th>3</th>\n",
       "      <td>Hossain, SKA; Rahman, MA; Hossain, MA</td>\n",
       "      <td>Hossain, S. K. Alamgir; Rahman, Md Anisur; Hos...</td>\n",
       "      <td>Edge computing framework for enabling situatio...</td>\n",
       "      <td>JOURNAL OF PARALLEL AND DISTRIBUTED COMPUTING</td>\n",
       "      <td>[Hossain, S. K. Alamgir; Rahman, Md Anisur] Kh...</td>\n",
       "      <td>Khulna University; King Saud University</td>\n",
       "    </tr>\n",
       "    <tr>\n",
       "      <th>4</th>\n",
       "      <td>Wu, TY; Kong, FF; Wang, LY; Chen, YC; Kumari, ...</td>\n",
       "      <td>Wu, Tsu-Yang; Kong, Fangfang; Wang, Liyang; Ch...</td>\n",
       "      <td>Toward Smart Home Authentication Using PUF and...</td>\n",
       "      <td>SENSORS</td>\n",
       "      <td>[Wu, Tsu-Yang; Kong, Fangfang; Wang, Liyang; P...</td>\n",
       "      <td>Shandong University of Science &amp; Technology; U...</td>\n",
       "    </tr>\n",
       "  </tbody>\n",
       "</table>\n",
       "</div>"
      ],
      "text/plain": [
       "                                                  AU  \\\n",
       "0  Zhang, H; Zhang, ZY; Zhang, L; Yang, YF; Kang,...   \n",
       "1  Yar, H; Imran, AS; Khan, ZA; Sajjad, M; Kastra...   \n",
       "2                    Gheisari, M; Wang, GJ; Chen, SH   \n",
       "3              Hossain, SKA; Rahman, MA; Hossain, MA   \n",
       "4  Wu, TY; Kong, FF; Wang, LY; Chen, YC; Kumari, ...   \n",
       "\n",
       "                                                  AF  \\\n",
       "0  Zhang, Hong; Zhang, Zeyu; Zhang, Lei; Yang, Yi...   \n",
       "1  Yar, Hikmat; Imran, Ali Shariq; Khan, Zulfiqar...   \n",
       "2       Gheisari, Mehdi; Wang, Guojun; Chen, Shuhong   \n",
       "3  Hossain, S. K. Alamgir; Rahman, Md Anisur; Hos...   \n",
       "4  Wu, Tsu-Yang; Kong, Fangfang; Wang, Liyang; Ch...   \n",
       "\n",
       "                                                  TI  \\\n",
       "0  Object Tracking for a Smart City Using IoT and...   \n",
       "1  Towards Smart Home Automation Using IoT-Enable...   \n",
       "2  An Edge Computing-enhanced Internet of Things ...   \n",
       "3  Edge computing framework for enabling situatio...   \n",
       "4  Toward Smart Home Authentication Using PUF and...   \n",
       "\n",
       "                                              SO  \\\n",
       "0                                        SENSORS   \n",
       "1                                        SENSORS   \n",
       "2             COMPUTERS & ELECTRICAL ENGINEERING   \n",
       "3  JOURNAL OF PARALLEL AND DISTRIBUTED COMPUTING   \n",
       "4                                        SENSORS   \n",
       "\n",
       "                                                  C1  \\\n",
       "0  [Zhang, Hong; Zhang, Zeyu; Zhang, Lei; Yang, Y...   \n",
       "1  [Yar, Hikmat; Sajjad, Muhammad] Islamia Coll P...   \n",
       "2  [Gheisari, Mehdi; Wang, Guojun; Chen, Shuhong]...   \n",
       "3  [Hossain, S. K. Alamgir; Rahman, Md Anisur] Kh...   \n",
       "4  [Wu, Tsu-Yang; Kong, Fangfang; Wang, Liyang; P...   \n",
       "\n",
       "                                                  C3  \n",
       "0  Beihang University; University of Massachusett...  \n",
       "1  University of Peshawar; Norwegian University o...  \n",
       "2  Guangzhou University; State University System ...  \n",
       "3            Khulna University; King Saud University  \n",
       "4  Shandong University of Science & Technology; U...  "
      ]
     },
     "execution_count": 3,
     "metadata": {},
     "output_type": "execute_result"
    }
   ],
   "source": [
    "df.head(5)"
   ]
  },
  {
   "cell_type": "code",
   "execution_count": 4,
   "id": "4c1c0486",
   "metadata": {},
   "outputs": [
    {
     "name": "stdout",
     "output_type": "stream",
     "text": [
      "9949\n"
     ]
    }
   ],
   "source": [
    "print(len(df))"
   ]
  },
  {
   "cell_type": "markdown",
   "id": "f075e21b",
   "metadata": {},
   "source": [
    "## Most published countries"
   ]
  },
  {
   "cell_type": "code",
   "execution_count": 5,
   "id": "d3e107aa",
   "metadata": {},
   "outputs": [],
   "source": [
    "df = df[df[\"C1\"].notna()]\n",
    "df = df.copy()"
   ]
  },
  {
   "cell_type": "code",
   "execution_count": 6,
   "id": "376bd19d",
   "metadata": {},
   "outputs": [],
   "source": [
    "def extract_main_author_address(address):\n",
    "  if isinstance(address, str):\n",
    "    parts = address.split(\"; [\")\n",
    "    return parts[0].split(\"] \")[1] if \"] \" in parts[0] else parts[0]\n",
    "  raise ValueError(f\":Address is not string: {address}\")\n",
    "\n",
    "df[\"main_author_address\"] = df[\"C1\"].apply(extract_main_author_address)"
   ]
  },
  {
   "cell_type": "code",
   "execution_count": 7,
   "id": "ecc724d9",
   "metadata": {},
   "outputs": [],
   "source": [
    "def extract_country(address):\n",
    "  if isinstance(address, str):\n",
    "    # Special case for USA at the end with state and zip\n",
    "    if address.strip().endswith(\"USA\"):\n",
    "      return \"USA\"\n",
    "    parts = address.split(\",\")\n",
    "    if len(parts) <= 1:\n",
    "      raise ValueError(f\"Address does not contain multiple parts: {address}\")\n",
    "    return parts[-1].strip()\n",
    "  raise ValueError(f\"Address is not string: {address}\")\n",
    "\n",
    "df[\"country\"] = df[\"main_author_address\"].apply(extract_country)"
   ]
  },
  {
   "cell_type": "code",
   "execution_count": 8,
   "id": "c9177785",
   "metadata": {},
   "outputs": [],
   "source": [
    "df[\"country\"] = df[\"country\"].replace(\"Peoples R China\", \"China\")"
   ]
  },
  {
   "cell_type": "code",
   "execution_count": 9,
   "id": "798fc92e",
   "metadata": {},
   "outputs": [
    {
     "name": "stdout",
     "output_type": "stream",
     "text": [
      "country\n",
      "China          4889\n",
      "India           686\n",
      "South Korea     506\n",
      "USA             478\n",
      "Spain           284\n",
      "               ... \n",
      "Syria             1\n",
      "Venezuela         1\n",
      "Mauritius         1\n",
      "Cambodia          1\n",
      "Bulgaria          1\n",
      "Name: count, Length: 97, dtype: int64\n"
     ]
    }
   ],
   "source": [
    "# show unique countries and their occurrences\n",
    "country_counts = df[\"country\"].value_counts()\n",
    "print(country_counts)"
   ]
  },
  {
   "cell_type": "code",
   "execution_count": 10,
   "id": "b242f182",
   "metadata": {},
   "outputs": [
    {
     "data": {
      "image/png": "[encoded data removed]",
      "text/plain": [
       "<Figure size 1000x600 with 2 Axes>"
      ]
     },
     "metadata": {},
     "output_type": "display_data"
    }
   ],
   "source": [
    "\n",
    "top_n = 10\n",
    "top_countries = country_counts.head(top_n)\n",
    "total_literatures = len(df)\n",
    "percentages = (top_countries / total_literatures) * 100\n",
    "\n",
    "fig, ax1 = plt.subplots(figsize=(10, 6))\n",
    "\n",
    "bars = ax1.bar(top_countries.index, top_countries.values, color='blue', label='Number of literatures published')\n",
    "ax1.set_ylabel('Number of Publications')\n",
    "ax1.set_xlabel('Country')\n",
    "ax1.set_title('Top 10 Most Published Countries')\n",
    "\n",
    "# Add percentage number to the top of each bar\n",
    "for i, bar in enumerate(bars):\n",
    "  height = bar.get_height()\n",
    "  percent = percentages.iloc[i]\n",
    "  ax1.text(\n",
    "    bar.get_x() + bar.get_width() / 2,\n",
    "    height + 80,  # move the label higher above the bar\n",
    "    f'{percent:.1f}%',\n",
    "    ha='center',\n",
    "    va='bottom',\n",
    "    fontsize=10,\n",
    "    color='black'\n",
    "  )\n",
    "\n",
    "ax2 = ax1.twinx()\n",
    "ax2.plot(top_countries.index, percentages, 'r--', label='Percentage of Total')\n",
    "ax2.set_ylabel('Percentage of Total Literatures (%)')\n",
    "\n",
    "fig.tight_layout()\n",
    "plt.show()"
   ]
  },
  {
   "cell_type": "markdown",
   "id": "e5f56c08",
   "metadata": {},
   "source": [
    "## Most published research institutions"
   ]
  },
  {
   "cell_type": "markdown",
   "id": "62139df0",
   "metadata": {},
   "source": [
    "## Geo visualization of the most published countries"
   ]
  },
  {
   "cell_type": "code",
   "execution_count": 11,
   "id": "5abcd352",
   "metadata": {},
   "outputs": [
    {
     "name": "stdout",
     "output_type": "stream",
     "text": [
      "215\n",
      "0\n"
     ]
    }
   ],
   "source": [
    "print(df[\"C3\"].isna().sum())\n",
    "df_institutions = df[df[\"C3\"].notna()].copy()\n",
    "print(df_institutions[\"C3\"].isna().sum())"
   ]
  },
  {
   "cell_type": "code",
   "execution_count": 12,
   "id": "1dcfe775",
   "metadata": {},
   "outputs": [],
   "source": [
    "def extract_main_institution(x):\n",
    "\tif isinstance(x, str):\n",
    "\t\treturn x.split(\";\")[0]\n",
    "\traise ValueError(f\"Main institution is not string: {x}\")\n",
    "\n",
    "df_institutions[\"main_institution\"] = df_institutions[\"C3\"].apply(extract_main_institution)"
   ]
  },
  {
   "cell_type": "code",
   "execution_count": 13,
   "id": "3623039f",
   "metadata": {},
   "outputs": [],
   "source": [
    "df_institutions[\"main_institution\"].unique()\n",
    "# write unique institutions to config[\"INSTITUTIONS_GEO_DATA\"] as json array\n",
    "import json\n",
    "with open(config[\"INSTITUTIONS\"], \"w\") as f:\n",
    "    json.dump(df_institutions[\"main_institution\"].unique().tolist(), f)"
   ]
  },
  {
   "cell_type": "markdown",
   "id": "8970c342",
   "metadata": {},
   "source": [
    "## Geo visualization of published"
   ]
  },
  {
   "cell_type": "code",
   "execution_count": 14,
   "id": "eea53612",
   "metadata": {},
   "outputs": [
    {
     "data": {
      "text/html": [
       "<div>\n",
       "<style scoped>\n",
       "    .dataframe tbody tr th:only-of-type {\n",
       "        vertical-align: middle;\n",
       "    }\n",
       "\n",
       "    .dataframe tbody tr th {\n",
       "        vertical-align: top;\n",
       "    }\n",
       "\n",
       "    .dataframe thead th {\n",
       "        text-align: right;\n",
       "    }\n",
       "</style>\n",
       "<table border=\"1\" class=\"dataframe\">\n",
       "  <thead>\n",
       "    <tr style=\"text-align: right;\">\n",
       "      <th></th>\n",
       "      <th>latitude</th>\n",
       "      <th>longitude</th>\n",
       "      <th>address</th>\n",
       "    </tr>\n",
       "  </thead>\n",
       "  <tbody>\n",
       "    <tr>\n",
       "      <th>Beihang University</th>\n",
       "      <td>39.980943</td>\n",
       "      <td>116.340979</td>\n",
       "      <td>北京航空航天大学(学院路校区), 37, 学院路, 花园路街道, 东升镇, 海淀区, 北京市...</td>\n",
       "    </tr>\n",
       "    <tr>\n",
       "      <th>University of Peshawar</th>\n",
       "      <td>34.010555</td>\n",
       "      <td>71.483316</td>\n",
       "      <td>جامعہ پشاور, Agricultural University Road, یون...</td>\n",
       "    </tr>\n",
       "    <tr>\n",
       "      <th>Guangzhou University</th>\n",
       "      <td>23.044650</td>\n",
       "      <td>113.363155</td>\n",
       "      <td>广州大学(大学城校区), 230, 大学城外环西路, 小谷围街道, 番禺区, 广州市, 广东...</td>\n",
       "    </tr>\n",
       "    <tr>\n",
       "      <th>Khulna University</th>\n",
       "      <td>22.801444</td>\n",
       "      <td>89.534237</td>\n",
       "      <td>Khulna University, Khulna-Satkhira Highway, জি...</td>\n",
       "    </tr>\n",
       "    <tr>\n",
       "      <th>Shandong University of Science &amp; Technology</th>\n",
       "      <td>36.001464</td>\n",
       "      <td>120.116366</td>\n",
       "      <td>山东科技大学(青岛校区), 579, 前湾港路, 辛安街道, 青岛西海岸新区（黄岛区）, 青...</td>\n",
       "    </tr>\n",
       "  </tbody>\n",
       "</table>\n",
       "</div>"
      ],
      "text/plain": [
       "                                              latitude   longitude  \\\n",
       "Beihang University                           39.980943  116.340979   \n",
       "University of Peshawar                       34.010555   71.483316   \n",
       "Guangzhou University                         23.044650  113.363155   \n",
       "Khulna University                            22.801444   89.534237   \n",
       "Shandong University of Science & Technology  36.001464  120.116366   \n",
       "\n",
       "                                                                                       address  \n",
       "Beihang University                           北京航空航天大学(学院路校区), 37, 学院路, 花园路街道, 东升镇, 海淀区, 北京市...  \n",
       "University of Peshawar                       جامعہ پشاور, Agricultural University Road, یون...  \n",
       "Guangzhou University                         广州大学(大学城校区), 230, 大学城外环西路, 小谷围街道, 番禺区, 广州市, 广东...  \n",
       "Khulna University                            Khulna University, Khulna-Satkhira Highway, জি...  \n",
       "Shandong University of Science & Technology  山东科技大学(青岛校区), 579, 前湾港路, 辛安街道, 青岛西海岸新区（黄岛区）, 青...  "
      ]
     },
     "execution_count": 14,
     "metadata": {},
     "output_type": "execute_result"
    }
   ],
   "source": [
    "df_institutions_geo = pd.read_json(config[\"INSTITUTIONS_GEO_PROCESSED_DATA\"], orient=\"index\")\n",
    "\n",
    "df_institutions_geo.head(5)"
   ]
  },
  {
   "cell_type": "code",
   "execution_count": 15,
   "id": "6e359a56",
   "metadata": {},
   "outputs": [
    {
     "data": {
      "application/vnd.plotly.v1+json": {
       "config": {
        "plotlyServerURL": "https://plot.ly"
       },
       "data": [
        {
         "geo": "geo",
         "hovertemplate": "latitude=%{lat}<br>longitude=%{lon}<extra></extra>",
         "lat": {
          "bdata": "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",
          "dtype": "f8"
         },
         "legendgroup": "",
         "lon": {
          "bdata": "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",
          "dtype": "f8"
         },
         "marker": {
          "color": "#636efa",
          "symbol": "circle"
         },
         "mode": "markers",
         "name": "",
         "showlegend": false,
         "type": "scattergeo"
        }
       ],
       "layout": {
        "geo": {
         "center": {},
         "domain": {
          "x": [
           0,
           1
          ],
          "y": [
           0,
           1
          ]
         }
        },
        "legend": {
         "tracegroupgap": 0
        },
        "margin": {
         "t": 60
        },
        "template": {
         "data": {
          "bar": [
           {
            "error_x": {
             "color": "#2a3f5f"
            },
            "error_y": {
             "color": "#2a3f5f"
            },
            "marker": {
             "line": {
              "color": "#E5ECF6",
              "width": 0.5
             },
             "pattern": {
              "fillmode": "overlay",
              "size": 10,
              "solidity": 0.2
             }
            },
            "type": "bar"
           }
          ],
          "barpolar": [
           {
            "marker": {
             "line": {
              "color": "#E5ECF6",
              "width": 0.5
             },
             "pattern": {
              "fillmode": "overlay",
              "size": 10,
              "solidity": 0.2
             }
            },
            "type": "barpolar"
           }
          ],
          "carpet": [
           {
            "aaxis": {
             "endlinecolor": "#2a3f5f",
             "gridcolor": "white",
             "linecolor": "white",
             "minorgridcolor": "white",
             "startlinecolor": "#2a3f5f"
            },
            "baxis": {
             "endlinecolor": "#2a3f5f",
             "gridcolor": "white",
             "linecolor": "white",
             "minorgridcolor": "white",
             "startlinecolor": "#2a3f5f"
            },
            "type": "carpet"
           }
          ],
          "choropleth": [
           {
            "colorbar": {
             "outlinewidth": 0,
             "ticks": ""
            },
            "type": "choropleth"
           }
          ],
          "contour": [
           {
            "colorbar": {
             "outlinewidth": 0,
             "ticks": ""
            },
            "colorscale": [
             [
              0,
              "#0d0887"
             ],
             [
              0.1111111111111111,
              "#46039f"
             ],
             [
              0.2222222222222222,
              "#7201a8"
             ],
             [
              0.3333333333333333,
              "#9c179e"
             ],
             [
              0.4444444444444444,
              "#bd3786"
             ],
             [
              0.5555555555555556,
              "#d8576b"
             ],
             [
              0.6666666666666666,
              "#ed7953"
             ],
             [
              0.7777777777777778,
              "#fb9f3a"
             ],
             [
              0.8888888888888888,
              "#fdca26"
             ],
             [
              1,
              "#f0f921"
             ]
            ],
            "type": "contour"
           }
          ],
          "contourcarpet": [
           {
            "colorbar": {
             "outlinewidth": 0,
             "ticks": ""
            },
            "type": "contourcarpet"
           }
          ],
          "heatmap": [
           {
            "colorbar": {
             "outlinewidth": 0,
             "ticks": ""
            },
            "colorscale": [
             [
              0,
              "#0d0887"
             ],
             [
              0.1111111111111111,
              "#46039f"
             ],
             [
              0.2222222222222222,
              "#7201a8"
             ],
             [
              0.3333333333333333,
              "#9c179e"
             ],
             [
              0.4444444444444444,
              "#bd3786"
             ],
             [
              0.5555555555555556,
              "#d8576b"
             ],
             [
              0.6666666666666666,
              "#ed7953"
             ],
             [
              0.7777777777777778,
              "#fb9f3a"
             ],
             [
              0.8888888888888888,
              "#fdca26"
             ],
             [
              1,
              "#f0f921"
             ]
            ],
            "type": "heatmap"
           }
          ],
          "histogram": [
           {
            "marker": {
             "pattern": {
              "fillmode": "overlay",
              "size": 10,
              "solidity": 0.2
             }
            },
            "type": "histogram"
           }
          ],
          "histogram2d": [
           {
            "colorbar": {
             "outlinewidth": 0,
             "ticks": ""
            },
            "colorscale": [
             [
              0,
              "#0d0887"
             ],
             [
              0.1111111111111111,
              "#46039f"
             ],
             [
              0.2222222222222222,
              "#7201a8"
             ],
             [
              0.3333333333333333,
              "#9c179e"
             ],
             [
              0.4444444444444444,
              "#bd3786"
             ],
             [
              0.5555555555555556,
              "#d8576b"
             ],
             [
              0.6666666666666666,
              "#ed7953"
             ],
             [
              0.7777777777777778,
              "#fb9f3a"
             ],
             [
              0.8888888888888888,
              "#fdca26"
             ],
             [
              1,
              "#f0f921"
             ]
            ],
            "type": "histogram2d"
           }
          ],
          "histogram2dcontour": [
           {
            "colorbar": {
             "outlinewidth": 0,
             "ticks": ""
            },
            "colorscale": [
             [
              0,
              "#0d0887"
             ],
             [
              0.1111111111111111,
              "#46039f"
             ],
             [
              0.2222222222222222,
              "#7201a8"
             ],
             [
              0.3333333333333333,
              "#9c179e"
             ],
             [
              0.4444444444444444,
              "#bd3786"
             ],
             [
              0.5555555555555556,
              "#d8576b"
             ],
             [
              0.6666666666666666,
              "#ed7953"
             ],
             [
              0.7777777777777778,
              "#fb9f3a"
             ],
             [
              0.8888888888888888,
              "#fdca26"
             ],
             [
              1,
              "#f0f921"
             ]
            ],
            "type": "histogram2dcontour"
           }
          ],
          "mesh3d": [
           {
            "colorbar": {
             "outlinewidth": 0,
             "ticks": ""
            },
            "type": "mesh3d"
           }
          ],
          "parcoords": [
           {
            "line": {
             "colorbar": {
              "outlinewidth": 0,
              "ticks": ""
             }
            },
            "type": "parcoords"
           }
          ],
          "pie": [
           {
            "automargin": true,
            "type": "pie"
           }
          ],
          "scatter": [
           {
            "fillpattern": {
             "fillmode": "overlay",
             "size": 10,
             "solidity": 0.2
            },
            "type": "scatter"
           }
          ],
          "scatter3d": [
           {
            "line": {
             "colorbar": {
              "outlinewidth": 0,
              "ticks": ""
             }
            },
            "marker": {
             "colorbar": {
              "outlinewidth": 0,
              "ticks": ""
             }
            },
            "type": "scatter3d"
           }
          ],
          "scattercarpet": [
           {
            "marker": {
             "colorbar": {
              "outlinewidth": 0,
              "ticks": ""
             }
            },
            "type": "scattercarpet"
           }
          ],
          "scattergeo": [
           {
            "marker": {
             "colorbar": {
              "outlinewidth": 0,
              "ticks": ""
             }
            },
            "type": "scattergeo"
           }
          ],
          "scattergl": [
           {
            "marker": {
             "colorbar": {
              "outlinewidth": 0,
              "ticks": ""
             }
            },
            "type": "scattergl"
           }
          ],
          "scattermap": [
           {
            "marker": {
             "colorbar": {
              "outlinewidth": 0,
              "ticks": ""
             }
            },
            "type": "scattermap"
           }
          ],
          "scattermapbox": [
           {
            "marker": {
             "colorbar": {
              "outlinewidth": 0,
              "ticks": ""
             }
            },
            "type": "scattermapbox"
           }
          ],
          "scatterpolar": [
           {
            "marker": {
             "colorbar": {
              "outlinewidth": 0,
              "ticks": ""
             }
            },
            "type": "scatterpolar"
           }
          ],
          "scatterpolargl": [
           {
            "marker": {
             "colorbar": {
              "outlinewidth": 0,
              "ticks": ""
             }
            },
            "type": "scatterpolargl"
           }
          ],
          "scatterternary": [
           {
            "marker": {
             "colorbar": {
              "outlinewidth": 0,
              "ticks": ""
             }
            },
            "type": "scatterternary"
           }
          ],
          "surface": [
           {
            "colorbar": {
             "outlinewidth": 0,
             "ticks": ""
            },
            "colorscale": [
             [
              0,
              "#0d0887"
             ],
             [
              0.1111111111111111,
              "#46039f"
             ],
             [
              0.2222222222222222,
              "#7201a8"
             ],
             [
              0.3333333333333333,
              "#9c179e"
             ],
             [
              0.4444444444444444,
              "#bd3786"
             ],
             [
              0.5555555555555556,
              "#d8576b"
             ],
             [
              0.6666666666666666,
              "#ed7953"
             ],
             [
              0.7777777777777778,
              "#fb9f3a"
             ],
             [
              0.8888888888888888,
              "#fdca26"
             ],
             [
              1,
              "#f0f921"
             ]
            ],
            "type": "surface"
           }
          ],
          "table": [
           {
            "cells": {
             "fill": {
              "color": "#EBF0F8"
             },
             "line": {
              "color": "white"
             }
            },
            "header": {
             "fill": {
              "color": "#C8D4E3"
             },
             "line": {
              "color": "white"
             }
            },
            "type": "table"
           }
          ]
         },
         "layout": {
          "annotationdefaults": {
           "arrowcolor": "#2a3f5f",
           "arrowhead": 0,
           "arrowwidth": 1
          },
          "autotypenumbers": "strict",
          "coloraxis": {
           "colorbar": {
            "outlinewidth": 0,
            "ticks": ""
           }
          },
          "colorscale": {
           "diverging": [
            [
             0,
             "#8e0152"
            ],
            [
             0.1,
             "#c51b7d"
            ],
            [
             0.2,
             "#de77ae"
            ],
            [
             0.3,
             "#f1b6da"
            ],
            [
             0.4,
             "#fde0ef"
            ],
            [
             0.5,
             "#f7f7f7"
            ],
            [
             0.6,
             "#e6f5d0"
            ],
            [
             0.7,
             "#b8e186"
            ],
            [
             0.8,
             "#7fbc41"
            ],
            [
             0.9,
             "#4d9221"
            ],
            [
             1,
             "#276419"
            ]
           ],
           "sequential": [
            [
             0,
             "#0d0887"
            ],
            [
             0.1111111111111111,
             "#46039f"
            ],
            [
             0.2222222222222222,
             "#7201a8"
            ],
            [
             0.3333333333333333,
             "#9c179e"
            ],
            [
             0.4444444444444444,
             "#bd3786"
            ],
            [
             0.5555555555555556,
             "#d8576b"
            ],
            [
             0.6666666666666666,
             "#ed7953"
            ],
            [
             0.7777777777777778,
             "#fb9f3a"
            ],
            [
             0.8888888888888888,
             "#fdca26"
            ],
            [
             1,
             "#f0f921"
            ]
           ],
           "sequentialminus": [
            [
             0,
             "#0d0887"
            ],
            [
             0.1111111111111111,
             "#46039f"
            ],
            [
             0.2222222222222222,
             "#7201a8"
            ],
            [
             0.3333333333333333,
             "#9c179e"
            ],
            [
             0.4444444444444444,
             "#bd3786"
            ],
            [
             0.5555555555555556,
             "#d8576b"
            ],
            [
             0.6666666666666666,
             "#ed7953"
            ],
            [
             0.7777777777777778,
             "#fb9f3a"
            ],
            [
             0.8888888888888888,
             "#fdca26"
            ],
            [
             1,
             "#f0f921"
            ]
           ]
          },
          "colorway": [
           "#636efa",
           "#EF553B",
           "#00cc96",
           "#ab63fa",
           "#FFA15A",
           "#19d3f3",
           "#FF6692",
           "#B6E880",
           "#FF97FF",
           "#FECB52"
          ],
          "font": {
           "color": "#2a3f5f"
          },
          "geo": {
           "bgcolor": "white",
           "lakecolor": "white",
           "landcolor": "#E5ECF6",
           "showlakes": true,
           "showland": true,
           "subunitcolor": "white"
          },
          "hoverlabel": {
           "align": "left"
          },
          "hovermode": "closest",
          "mapbox": {
           "style": "light"
          },
          "paper_bgcolor": "white",
          "plot_bgcolor": "#E5ECF6",
          "polar": {
           "angularaxis": {
            "gridcolor": "white",
            "linecolor": "white",
            "ticks": ""
           },
           "bgcolor": "#E5ECF6",
           "radialaxis": {
            "gridcolor": "white",
            "linecolor": "white",
            "ticks": ""
           }
          },
          "scene": {
           "xaxis": {
            "backgroundcolor": "#E5ECF6",
            "gridcolor": "white",
            "gridwidth": 2,
            "linecolor": "white",
            "showbackground": true,
            "ticks": "",
            "zerolinecolor": "white"
           },
           "yaxis": {
            "backgroundcolor": "#E5ECF6",
            "gridcolor": "white",
            "gridwidth": 2,
            "linecolor": "white",
            "showbackground": true,
            "ticks": "",
            "zerolinecolor": "white"
           },
           "zaxis": {
            "backgroundcolor": "#E5ECF6",
            "gridcolor": "white",
            "gridwidth": 2,
            "linecolor": "white",
            "showbackground": true,
            "ticks": "",
            "zerolinecolor": "white"
           }
          },
          "shapedefaults": {
           "line": {
            "color": "#2a3f5f"
           }
          },
          "ternary": {
           "aaxis": {
            "gridcolor": "white",
            "linecolor": "white",
            "ticks": ""
           },
           "baxis": {
            "gridcolor": "white",
            "linecolor": "white",
            "ticks": ""
           },
           "bgcolor": "#E5ECF6",
           "caxis": {
            "gridcolor": "white",
            "linecolor": "white",
            "ticks": ""
           }
          },
          "title": {
           "x": 0.05
          },
          "xaxis": {
           "automargin": true,
           "gridcolor": "white",
           "linecolor": "white",
           "ticks": "",
           "title": {
            "standoff": 15
           },
           "zerolinecolor": "white",
           "zerolinewidth": 2
          },
          "yaxis": {
           "automargin": true,
           "gridcolor": "white",
           "linecolor": "white",
           "ticks": "",
           "title": {
            "standoff": 15
           },
           "zerolinecolor": "white",
           "zerolinewidth": 2
          }
         }
        }
       }
      }
     },
     "metadata": {},
     "output_type": "display_data"
    }
   ],
   "source": [
    "import plotly.express as px\n",
    "\n",
    "fig = px.scatter_geo(df_institutions_geo, lat='latitude', lon='longitude')\n",
    "fig.show()"
   ]
  },
  {
   "cell_type": "code",
   "execution_count": null,
   "id": "5ddfb33c",
   "metadata": {},
   "outputs": [],
   "source": []
  }
 ],
 "metadata": {
  "kernelspec": {
   "display_name": "venv",
   "language": "python",
   "name": "python3"
  },
  "language_info": {
   "codemirror_mode": {
    "name": "ipython",
    "version": 3
   },
   "file_extension": ".py",
   "mimetype": "text/x-python",
   "name": "python",
   "nbconvert_exporter": "python",
   "pygments_lexer": "ipython3",
   "version": "3.13.5"
  }
 },
 "nbformat": 4,
 "nbformat_minor": 5
}
