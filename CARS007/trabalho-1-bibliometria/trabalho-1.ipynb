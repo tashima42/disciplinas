{
 "cells": [
  {
   "cell_type": "code",
   "execution_count": 13,
   "id": "e3ad652a",
   "metadata": {
    "vscode": {
     "languageId": "shellscript"
    }
   },
   "outputs": [
    {
     "name": "stdout",
     "output_type": "stream",
     "text": [
      "Requirement already satisfied: python-dotenv==1.1.1 in ./venv/lib/python3.13/site-packages (from -r requirements.txt (line 1)) (1.1.1)\n",
      "Requirement already satisfied: pandas==2.3.2 in ./venv/lib/python3.13/site-packages (from -r requirements.txt (line 2)) (2.3.2)\n",
      "Requirement already satisfied: matplotlib==3.10.5 in ./venv/lib/python3.13/site-packages (from -r requirements.txt (line 3)) (3.10.5)\n",
      "Requirement already satisfied: numpy>=1.26.0 in ./venv/lib/python3.13/site-packages (from pandas==2.3.2->-r requirements.txt (line 2)) (2.3.2)\n",
      "Requirement already satisfied: python-dateutil>=2.8.2 in ./venv/lib/python3.13/site-packages (from pandas==2.3.2->-r requirements.txt (line 2)) (2.9.0.post0)\n",
      "Requirement already satisfied: pytz>=2020.1 in ./venv/lib/python3.13/site-packages (from pandas==2.3.2->-r requirements.txt (line 2)) (2025.2)\n",
      "Requirement already satisfied: tzdata>=2022.7 in ./venv/lib/python3.13/site-packages (from pandas==2.3.2->-r requirements.txt (line 2)) (2025.2)\n",
      "Requirement already satisfied: contourpy>=1.0.1 in ./venv/lib/python3.13/site-packages (from matplotlib==3.10.5->-r requirements.txt (line 3)) (1.3.3)\n",
      "Requirement already satisfied: cycler>=0.10 in ./venv/lib/python3.13/site-packages (from matplotlib==3.10.5->-r requirements.txt (line 3)) (0.12.1)\n",
      "Requirement already satisfied: fonttools>=4.22.0 in ./venv/lib/python3.13/site-packages (from matplotlib==3.10.5->-r requirements.txt (line 3)) (4.59.1)\n",
      "Requirement already satisfied: kiwisolver>=1.3.1 in ./venv/lib/python3.13/site-packages (from matplotlib==3.10.5->-r requirements.txt (line 3)) (1.4.9)\n",
      "Requirement already satisfied: packaging>=20.0 in ./venv/lib/python3.13/site-packages (from matplotlib==3.10.5->-r requirements.txt (line 3)) (25.0)\n",
      "Requirement already satisfied: pillow>=8 in ./venv/lib/python3.13/site-packages (from matplotlib==3.10.5->-r requirements.txt (line 3)) (11.3.0)\n",
      "Requirement already satisfied: pyparsing>=2.3.1 in ./venv/lib/python3.13/site-packages (from matplotlib==3.10.5->-r requirements.txt (line 3)) (3.2.3)\n",
      "Requirement already satisfied: six>=1.5 in ./venv/lib/python3.13/site-packages (from python-dateutil>=2.8.2->pandas==2.3.2->-r requirements.txt (line 2)) (1.17.0)\n"
     ]
    }
   ],
   "source": [
    "!python3 -m pip install -r requirements.txt"
   ]
  },
  {
   "cell_type": "code",
   "execution_count": 14,
   "id": "94c547c8",
   "metadata": {},
   "outputs": [],
   "source": [
    "from dotenv import dotenv_values\n",
    "import matplotlib.pyplot as plt\n",
    "import pandas as pd\n",
    "\n",
    "config = dotenv_values(\".env\")\n",
    "df = pd.read_csv(str(config[\"WOS_DATA\"]), sep=\"\\t\", usecols=[\"AU\", \"C1\", \"AF\", \"TI\", \"SO\", \"C3\"])"
   ]
  },
  {
   "cell_type": "code",
   "execution_count": 15,
   "id": "d5b93fa2",
   "metadata": {},
   "outputs": [
    {
     "data": {
      "text/html": [
       "<div>\n",
       "<style scoped>\n",
       "    .dataframe tbody tr th:only-of-type {\n",
       "        vertical-align: middle;\n",
       "    }\n",
       "\n",
       "    .dataframe tbody tr th {\n",
       "        vertical-align: top;\n",
       "    }\n",
       "\n",
       "    .dataframe thead th {\n",
       "        text-align: right;\n",
       "    }\n",
       "</style>\n",
       "<table border=\"1\" class=\"dataframe\">\n",
       "  <thead>\n",
       "    <tr style=\"text-align: right;\">\n",
       "      <th></th>\n",
       "      <th>AU</th>\n",
       "      <th>AF</th>\n",
       "      <th>TI</th>\n",
       "      <th>SO</th>\n",
       "      <th>C1</th>\n",
       "      <th>C3</th>\n",
       "    </tr>\n",
       "  </thead>\n",
       "  <tbody>\n",
       "    <tr>\n",
       "      <th>0</th>\n",
       "      <td>Zhang, H; Zhang, ZY; Zhang, L; Yang, YF; Kang,...</td>\n",
       "      <td>Zhang, Hong; Zhang, Zeyu; Zhang, Lei; Yang, Yi...</td>\n",
       "      <td>Object Tracking for a Smart City Using IoT and...</td>\n",
       "      <td>SENSORS</td>\n",
       "      <td>[Zhang, Hong; Zhang, Zeyu; Zhang, Lei; Yang, Y...</td>\n",
       "      <td>Beihang University; University of Massachusett...</td>\n",
       "    </tr>\n",
       "    <tr>\n",
       "      <th>1</th>\n",
       "      <td>Yar, H; Imran, AS; Khan, ZA; Sajjad, M; Kastra...</td>\n",
       "      <td>Yar, Hikmat; Imran, Ali Shariq; Khan, Zulfiqar...</td>\n",
       "      <td>Towards Smart Home Automation Using IoT-Enable...</td>\n",
       "      <td>SENSORS</td>\n",
       "      <td>[Yar, Hikmat; Sajjad, Muhammad] Islamia Coll P...</td>\n",
       "      <td>University of Peshawar; Norwegian University o...</td>\n",
       "    </tr>\n",
       "    <tr>\n",
       "      <th>2</th>\n",
       "      <td>Gheisari, M; Wang, GJ; Chen, SH</td>\n",
       "      <td>Gheisari, Mehdi; Wang, Guojun; Chen, Shuhong</td>\n",
       "      <td>An Edge Computing-enhanced Internet of Things ...</td>\n",
       "      <td>COMPUTERS &amp; ELECTRICAL ENGINEERING</td>\n",
       "      <td>[Gheisari, Mehdi; Wang, Guojun; Chen, Shuhong]...</td>\n",
       "      <td>Guangzhou University; State University System ...</td>\n",
       "    </tr>\n",
       "    <tr>\n",
       "      <th>3</th>\n",
       "      <td>Hossain, SKA; Rahman, MA; Hossain, MA</td>\n",
       "      <td>Hossain, S. K. Alamgir; Rahman, Md Anisur; Hos...</td>\n",
       "      <td>Edge computing framework for enabling situatio...</td>\n",
       "      <td>JOURNAL OF PARALLEL AND DISTRIBUTED COMPUTING</td>\n",
       "      <td>[Hossain, S. K. Alamgir; Rahman, Md Anisur] Kh...</td>\n",
       "      <td>Khulna University; King Saud University</td>\n",
       "    </tr>\n",
       "    <tr>\n",
       "      <th>4</th>\n",
       "      <td>Wu, TY; Kong, FF; Wang, LY; Chen, YC; Kumari, ...</td>\n",
       "      <td>Wu, Tsu-Yang; Kong, Fangfang; Wang, Liyang; Ch...</td>\n",
       "      <td>Toward Smart Home Authentication Using PUF and...</td>\n",
       "      <td>SENSORS</td>\n",
       "      <td>[Wu, Tsu-Yang; Kong, Fangfang; Wang, Liyang; P...</td>\n",
       "      <td>Shandong University of Science &amp; Technology; U...</td>\n",
       "    </tr>\n",
       "  </tbody>\n",
       "</table>\n",
       "</div>"
      ],
      "text/plain": [
       "                                                  AU  \\\n",
       "0  Zhang, H; Zhang, ZY; Zhang, L; Yang, YF; Kang,...   \n",
       "1  Yar, H; Imran, AS; Khan, ZA; Sajjad, M; Kastra...   \n",
       "2                    Gheisari, M; Wang, GJ; Chen, SH   \n",
       "3              Hossain, SKA; Rahman, MA; Hossain, MA   \n",
       "4  Wu, TY; Kong, FF; Wang, LY; Chen, YC; Kumari, ...   \n",
       "\n",
       "                                                  AF  \\\n",
       "0  Zhang, Hong; Zhang, Zeyu; Zhang, Lei; Yang, Yi...   \n",
       "1  Yar, Hikmat; Imran, Ali Shariq; Khan, Zulfiqar...   \n",
       "2       Gheisari, Mehdi; Wang, Guojun; Chen, Shuhong   \n",
       "3  Hossain, S. K. Alamgir; Rahman, Md Anisur; Hos...   \n",
       "4  Wu, Tsu-Yang; Kong, Fangfang; Wang, Liyang; Ch...   \n",
       "\n",
       "                                                  TI  \\\n",
       "0  Object Tracking for a Smart City Using IoT and...   \n",
       "1  Towards Smart Home Automation Using IoT-Enable...   \n",
       "2  An Edge Computing-enhanced Internet of Things ...   \n",
       "3  Edge computing framework for enabling situatio...   \n",
       "4  Toward Smart Home Authentication Using PUF and...   \n",
       "\n",
       "                                              SO  \\\n",
       "0                                        SENSORS   \n",
       "1                                        SENSORS   \n",
       "2             COMPUTERS & ELECTRICAL ENGINEERING   \n",
       "3  JOURNAL OF PARALLEL AND DISTRIBUTED COMPUTING   \n",
       "4                                        SENSORS   \n",
       "\n",
       "                                                  C1  \\\n",
       "0  [Zhang, Hong; Zhang, Zeyu; Zhang, Lei; Yang, Y...   \n",
       "1  [Yar, Hikmat; Sajjad, Muhammad] Islamia Coll P...   \n",
       "2  [Gheisari, Mehdi; Wang, Guojun; Chen, Shuhong]...   \n",
       "3  [Hossain, S. K. Alamgir; Rahman, Md Anisur] Kh...   \n",
       "4  [Wu, Tsu-Yang; Kong, Fangfang; Wang, Liyang; P...   \n",
       "\n",
       "                                                  C3  \n",
       "0  Beihang University; University of Massachusett...  \n",
       "1  University of Peshawar; Norwegian University o...  \n",
       "2  Guangzhou University; State University System ...  \n",
       "3            Khulna University; King Saud University  \n",
       "4  Shandong University of Science & Technology; U...  "
      ]
     },
     "execution_count": 15,
     "metadata": {},
     "output_type": "execute_result"
    }
   ],
   "source": [
    "df.head(5)"
   ]
  },
  {
   "cell_type": "code",
   "execution_count": 16,
   "id": "4c1c0486",
   "metadata": {},
   "outputs": [
    {
     "name": "stdout",
     "output_type": "stream",
     "text": [
      "9949\n"
     ]
    }
   ],
   "source": [
    "print(len(df))"
   ]
  },
  {
   "cell_type": "markdown",
   "id": "f075e21b",
   "metadata": {},
   "source": [
    "## Most published countries"
   ]
  },
  {
   "cell_type": "code",
   "execution_count": 17,
   "id": "d3e107aa",
   "metadata": {},
   "outputs": [],
   "source": [
    "df = df[df[\"C1\"].notna()]\n",
    "df = df.copy()"
   ]
  },
  {
   "cell_type": "code",
   "execution_count": 18,
   "id": "376bd19d",
   "metadata": {},
   "outputs": [],
   "source": [
    "def extract_main_author_address(address):\n",
    "  if isinstance(address, str):\n",
    "    parts = address.split(\"; [\")\n",
    "    return parts[0].split(\"] \")[1] if \"] \" in parts[0] else parts[0]\n",
    "  raise ValueError(f\":Address is not string: {address}\")\n",
    "\n",
    "df[\"main_author_address\"] = df[\"C1\"].apply(extract_main_author_address)"
   ]
  },
  {
   "cell_type": "code",
   "execution_count": 19,
   "id": "ecc724d9",
   "metadata": {},
   "outputs": [],
   "source": [
    "def extract_country(address):\n",
    "  if isinstance(address, str):\n",
    "    # Special case for USA at the end with state and zip\n",
    "    if address.strip().endswith(\"USA\"):\n",
    "      return \"USA\"\n",
    "    parts = address.split(\",\")\n",
    "    if len(parts) <= 1:\n",
    "      raise ValueError(f\"Address does not contain multiple parts: {address}\")\n",
    "    return parts[-1].strip()\n",
    "  raise ValueError(f\"Address is not string: {address}\")\n",
    "\n",
    "df[\"country\"] = df[\"main_author_address\"].apply(extract_country)"
   ]
  },
  {
   "cell_type": "code",
   "execution_count": 20,
   "id": "c9177785",
   "metadata": {},
   "outputs": [],
   "source": [
    "df[\"country\"] = df[\"country\"].replace(\"Peoples R China\", \"China\")"
   ]
  },
  {
   "cell_type": "code",
   "execution_count": 21,
   "id": "798fc92e",
   "metadata": {},
   "outputs": [
    {
     "name": "stdout",
     "output_type": "stream",
     "text": [
      "country\n",
      "China          4889\n",
      "India           686\n",
      "South Korea     506\n",
      "USA             478\n",
      "Spain           284\n",
      "               ... \n",
      "Syria             1\n",
      "Venezuela         1\n",
      "Mauritius         1\n",
      "Cambodia          1\n",
      "Bulgaria          1\n",
      "Name: count, Length: 97, dtype: int64\n"
     ]
    }
   ],
   "source": [
    "# show unique countries and their occurrences\n",
    "country_counts = df[\"country\"].value_counts()\n",
    "print(country_counts)"
   ]
  },
  {
   "cell_type": "code",
   "execution_count": 22,
   "id": "b242f182",
   "metadata": {},
   "outputs": [
    {
     "data": {
      "image/png": "[encoded data removed]",
      "text/plain": [
       "<Figure size 1000x600 with 2 Axes>"
      ]
     },
     "metadata": {},
     "output_type": "display_data"
    }
   ],
   "source": [
    "\n",
    "top_n = 10\n",
    "top_countries = country_counts.head(top_n)\n",
    "total_literatures = len(df)\n",
    "percentages = (top_countries / total_literatures) * 100\n",
    "\n",
    "fig, ax1 = plt.subplots(figsize=(10, 6))\n",
    "\n",
    "bars = ax1.bar(top_countries.index, top_countries.values, color='blue', label='Number of literatures published')\n",
    "ax1.set_ylabel('Number of Publications')\n",
    "ax1.set_xlabel('Country')\n",
    "ax1.set_title('Top 10 Most Published Countries')\n",
    "\n",
    "# Add percentage number to the top of each bar\n",
    "for i, bar in enumerate(bars):\n",
    "  height = bar.get_height()\n",
    "  percent = percentages.iloc[i]\n",
    "  ax1.text(\n",
    "    bar.get_x() + bar.get_width() / 2,\n",
    "    height + 80,  # move the label higher above the bar\n",
    "    f'{percent:.1f}%',\n",
    "    ha='center',\n",
    "    va='bottom',\n",
    "    fontsize=10,\n",
    "    color='black'\n",
    "  )\n",
    "\n",
    "ax2 = ax1.twinx()\n",
    "ax2.plot(top_countries.index, percentages, 'r--', label='Percentage of Total')\n",
    "ax2.set_ylabel('Percentage of Total Literatures (%)')\n",
    "\n",
    "fig.tight_layout()\n",
    "plt.show()"
   ]
  },
  {
   "cell_type": "markdown",
   "id": "e5f56c08",
   "metadata": {},
   "source": [
    "## Most published research institutions"
   ]
  }
 ],
 "metadata": {
  "kernelspec": {
   "display_name": "venv",
   "language": "python",
   "name": "python3"
  },
  "language_info": {
   "codemirror_mode": {
    "name": "ipython",
    "version": 3
   },
   "file_extension": ".py",
   "mimetype": "text/x-python",
   "name": "python",
   "nbconvert_exporter": "python",
   "pygments_lexer": "ipython3",
   "version": "3.13.5"
  }
 },
 "nbformat": 4,
 "nbformat_minor": 5
}
